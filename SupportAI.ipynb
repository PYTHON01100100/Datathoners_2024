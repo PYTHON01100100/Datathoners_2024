{
  "nbformat": 4,
  "nbformat_minor": 0,
  "metadata": {
    "colab": {
      "provenance": []
    },
    "kernelspec": {
      "name": "python3",
      "display_name": "Python 3"
    },
    "language_info": {
      "name": "python"
    }
  },
  "cells": [
    {
      "cell_type": "markdown",
      "source": [
        "فائدة هذا النموذج:\n",
        "تحديد الأسر المتعثرة ماليًا\n",
        "التنبؤ بالعائلات أو الأسر التي قد تتعثر ماليًا.\n",
        "\n",
        "اتخاذ قرارات مبكرة:\n",
        "إذا تم استخدامه في الوقت المناسب، يمكن للمؤسسات أن تتدخل بشكل مبكر وتقدم الدعم المناسب قبل حدوث التعثر المالي.\n",
        "\n",
        "تحسين تخصيص الموارد:\n",
        "من خلال معرفة الأسر التي قد تتعثر ماليًا، يمكن للمؤسسات تحسين تخصيص مواردها بشكل أفضل. على سبيل المثال، توفير برامج تعليم مالي أو دعم مالي للأسر الأكثر عرضة للخطر.\n",
        "\n",
        "استخدامه في التخطيط الاستراتيجي:\n",
        "يمكن أن يساعد هذا النموذج على نطاق أوسع في تحسين التخطيط الاستراتيجي للسياسات العامة، مثل تخطيط الدعم المالي أو تطوير سياسات اقتصادية تستهدف الأسر الأكثر حاجة."
      ],
      "metadata": {
        "id": "zG49cI3i7Fsf"
      }
    },
    {
      "cell_type": "code",
      "source": [
        "import pandas as pd\n",
        "import numpy as np\n",
        "from sklearn.model_selection import train_test_split\n",
        "from sklearn.preprocessing import LabelEncoder, StandardScaler\n",
        "from sklearn.ensemble import RandomForestClassifier\n",
        "from xgboost import XGBClassifier\n",
        "from sklearn.metrics import accuracy_score, roc_auc_score, classification_report, confusion_matrix\n"
      ],
      "metadata": {
        "id": "AXmVHOFJ5BRm"
      },
      "execution_count": null,
      "outputs": []
    },
    {
      "cell_type": "code",
      "execution_count": null,
      "metadata": {
        "colab": {
          "base_uri": "https://localhost:8080/",
          "height": 73
        },
        "id": "LPWR3uoU48h6",
        "outputId": "adcf3b55-a073-419c-c928-07a0a4a1b611"
      },
      "outputs": [
        {
          "output_type": "display_data",
          "data": {
            "text/plain": [
              "<IPython.core.display.HTML object>"
            ],
            "text/html": [
              "\n",
              "     <input type=\"file\" id=\"files-128de6b6-c23e-4e38-8469-3a65fefed372\" name=\"files[]\" multiple disabled\n",
              "        style=\"border:none\" />\n",
              "     <output id=\"result-128de6b6-c23e-4e38-8469-3a65fefed372\">\n",
              "      Upload widget is only available when the cell has been executed in the\n",
              "      current browser session. Please rerun this cell to enable.\n",
              "      </output>\n",
              "      <script>// Copyright 2017 Google LLC\n",
              "//\n",
              "// Licensed under the Apache License, Version 2.0 (the \"License\");\n",
              "// you may not use this file except in compliance with the License.\n",
              "// You may obtain a copy of the License at\n",
              "//\n",
              "//      http://www.apache.org/licenses/LICENSE-2.0\n",
              "//\n",
              "// Unless required by applicable law or agreed to in writing, software\n",
              "// distributed under the License is distributed on an \"AS IS\" BASIS,\n",
              "// WITHOUT WARRANTIES OR CONDITIONS OF ANY KIND, either express or implied.\n",
              "// See the License for the specific language governing permissions and\n",
              "// limitations under the License.\n",
              "\n",
              "/**\n",
              " * @fileoverview Helpers for google.colab Python module.\n",
              " */\n",
              "(function(scope) {\n",
              "function span(text, styleAttributes = {}) {\n",
              "  const element = document.createElement('span');\n",
              "  element.textContent = text;\n",
              "  for (const key of Object.keys(styleAttributes)) {\n",
              "    element.style[key] = styleAttributes[key];\n",
              "  }\n",
              "  return element;\n",
              "}\n",
              "\n",
              "// Max number of bytes which will be uploaded at a time.\n",
              "const MAX_PAYLOAD_SIZE = 100 * 1024;\n",
              "\n",
              "function _uploadFiles(inputId, outputId) {\n",
              "  const steps = uploadFilesStep(inputId, outputId);\n",
              "  const outputElement = document.getElementById(outputId);\n",
              "  // Cache steps on the outputElement to make it available for the next call\n",
              "  // to uploadFilesContinue from Python.\n",
              "  outputElement.steps = steps;\n",
              "\n",
              "  return _uploadFilesContinue(outputId);\n",
              "}\n",
              "\n",
              "// This is roughly an async generator (not supported in the browser yet),\n",
              "// where there are multiple asynchronous steps and the Python side is going\n",
              "// to poll for completion of each step.\n",
              "// This uses a Promise to block the python side on completion of each step,\n",
              "// then passes the result of the previous step as the input to the next step.\n",
              "function _uploadFilesContinue(outputId) {\n",
              "  const outputElement = document.getElementById(outputId);\n",
              "  const steps = outputElement.steps;\n",
              "\n",
              "  const next = steps.next(outputElement.lastPromiseValue);\n",
              "  return Promise.resolve(next.value.promise).then((value) => {\n",
              "    // Cache the last promise value to make it available to the next\n",
              "    // step of the generator.\n",
              "    outputElement.lastPromiseValue = value;\n",
              "    return next.value.response;\n",
              "  });\n",
              "}\n",
              "\n",
              "/**\n",
              " * Generator function which is called between each async step of the upload\n",
              " * process.\n",
              " * @param {string} inputId Element ID of the input file picker element.\n",
              " * @param {string} outputId Element ID of the output display.\n",
              " * @return {!Iterable<!Object>} Iterable of next steps.\n",
              " */\n",
              "function* uploadFilesStep(inputId, outputId) {\n",
              "  const inputElement = document.getElementById(inputId);\n",
              "  inputElement.disabled = false;\n",
              "\n",
              "  const outputElement = document.getElementById(outputId);\n",
              "  outputElement.innerHTML = '';\n",
              "\n",
              "  const pickedPromise = new Promise((resolve) => {\n",
              "    inputElement.addEventListener('change', (e) => {\n",
              "      resolve(e.target.files);\n",
              "    });\n",
              "  });\n",
              "\n",
              "  const cancel = document.createElement('button');\n",
              "  inputElement.parentElement.appendChild(cancel);\n",
              "  cancel.textContent = 'Cancel upload';\n",
              "  const cancelPromise = new Promise((resolve) => {\n",
              "    cancel.onclick = () => {\n",
              "      resolve(null);\n",
              "    };\n",
              "  });\n",
              "\n",
              "  // Wait for the user to pick the files.\n",
              "  const files = yield {\n",
              "    promise: Promise.race([pickedPromise, cancelPromise]),\n",
              "    response: {\n",
              "      action: 'starting',\n",
              "    }\n",
              "  };\n",
              "\n",
              "  cancel.remove();\n",
              "\n",
              "  // Disable the input element since further picks are not allowed.\n",
              "  inputElement.disabled = true;\n",
              "\n",
              "  if (!files) {\n",
              "    return {\n",
              "      response: {\n",
              "        action: 'complete',\n",
              "      }\n",
              "    };\n",
              "  }\n",
              "\n",
              "  for (const file of files) {\n",
              "    const li = document.createElement('li');\n",
              "    li.append(span(file.name, {fontWeight: 'bold'}));\n",
              "    li.append(span(\n",
              "        `(${file.type || 'n/a'}) - ${file.size} bytes, ` +\n",
              "        `last modified: ${\n",
              "            file.lastModifiedDate ? file.lastModifiedDate.toLocaleDateString() :\n",
              "                                    'n/a'} - `));\n",
              "    const percent = span('0% done');\n",
              "    li.appendChild(percent);\n",
              "\n",
              "    outputElement.appendChild(li);\n",
              "\n",
              "    const fileDataPromise = new Promise((resolve) => {\n",
              "      const reader = new FileReader();\n",
              "      reader.onload = (e) => {\n",
              "        resolve(e.target.result);\n",
              "      };\n",
              "      reader.readAsArrayBuffer(file);\n",
              "    });\n",
              "    // Wait for the data to be ready.\n",
              "    let fileData = yield {\n",
              "      promise: fileDataPromise,\n",
              "      response: {\n",
              "        action: 'continue',\n",
              "      }\n",
              "    };\n",
              "\n",
              "    // Use a chunked sending to avoid message size limits. See b/62115660.\n",
              "    let position = 0;\n",
              "    do {\n",
              "      const length = Math.min(fileData.byteLength - position, MAX_PAYLOAD_SIZE);\n",
              "      const chunk = new Uint8Array(fileData, position, length);\n",
              "      position += length;\n",
              "\n",
              "      const base64 = btoa(String.fromCharCode.apply(null, chunk));\n",
              "      yield {\n",
              "        response: {\n",
              "          action: 'append',\n",
              "          file: file.name,\n",
              "          data: base64,\n",
              "        },\n",
              "      };\n",
              "\n",
              "      let percentDone = fileData.byteLength === 0 ?\n",
              "          100 :\n",
              "          Math.round((position / fileData.byteLength) * 100);\n",
              "      percent.textContent = `${percentDone}% done`;\n",
              "\n",
              "    } while (position < fileData.byteLength);\n",
              "  }\n",
              "\n",
              "  // All done.\n",
              "  yield {\n",
              "    response: {\n",
              "      action: 'complete',\n",
              "    }\n",
              "  };\n",
              "}\n",
              "\n",
              "scope.google = scope.google || {};\n",
              "scope.google.colab = scope.google.colab || {};\n",
              "scope.google.colab._files = {\n",
              "  _uploadFiles,\n",
              "  _uploadFilesContinue,\n",
              "};\n",
              "})(self);\n",
              "</script> "
            ]
          },
          "metadata": {}
        },
        {
          "output_type": "stream",
          "name": "stdout",
          "text": [
            "Saving PastRList.xlsx to PastRList (1).xlsx\n"
          ]
        }
      ],
      "source": [
        "import pandas as pd\n",
        "from google.colab import files\n",
        "\n",
        "# رفع الملف\n",
        "uploaded = files.upload()\n"
      ]
    },
    {
      "cell_type": "code",
      "source": [
        "df = pd.read_excel('PastRList.xlsx')"
      ],
      "metadata": {
        "id": "m_NhaodesoyY"
      },
      "execution_count": null,
      "outputs": []
    },
    {
      "cell_type": "code",
      "source": [
        "import pandas as pd\n",
        "\n",
        "# تحميل البيانات من ملف Excel\n",
        "new_data = pd.read_excel('PastRList.xlsx')\n"
      ],
      "metadata": {
        "id": "-6SUJEtIthVh"
      },
      "execution_count": null,
      "outputs": []
    },
    {
      "cell_type": "code",
      "source": [
        "# عرض أسماء المناطق الفريدة في عمود 'المنطقة'\n",
        "unique_regions = new_data['المنطقة'].unique()\n",
        "\n",
        "# طباعة أسماء المناطق\n",
        "print(unique_regions)\n"
      ],
      "metadata": {
        "colab": {
          "base_uri": "https://localhost:8080/"
        },
        "id": "DT_Ayqk7tX6d",
        "outputId": "65eac3b1-3908-46e6-a9d7-3216786bbe7a"
      },
      "execution_count": null,
      "outputs": [
        {
          "output_type": "stream",
          "name": "stdout",
          "text": [
            "['عسير' 'تبوك' 'منطقة الرياض' 'منطقة مكة المكرمة' 'المدينة المنورة'\n",
            " 'المنطقة الشرقية' 'القصيم' 'حائل' 'جازان' 'الحدود الشمالية' 'الجوف'\n",
            " 'الباحة' 'نجران']\n"
          ]
        }
      ]
    },
    {
      "cell_type": "code",
      "source": [
        "# إنشاء قاموس لتحويل أسماء المناطق إلى أرقام\n",
        "region_mapping = {\n",
        "    'عسير': 0,\n",
        "    'تبوك': 1,\n",
        "    'منطقة الرياض': 2,\n",
        "    'منطقة مكة المكرمة': 3,\n",
        "    'المدينة المنورة': 4,\n",
        "    'المنطقة الشرقية': 5,\n",
        "    'القصيم': 6,\n",
        "    'حائل': 7,\n",
        "    'جازان': 8,\n",
        "    'الحدود الشمالية': 9,\n",
        "    'الجوف': 10,\n",
        "    'الباحة': 11,\n",
        "    'نجران': 12\n",
        "}\n",
        "\n",
        "# تحويل أسماء المناطق إلى أرقام باستخدام القاموس\n",
        "new_data['المنطقة_encoded'] = new_data['المنطقة'].map(region_mapping)\n",
        "\n",
        "# عرض البيانات بعد التحويل\n",
        "print(new_data[['المنطقة', 'المنطقة_encoded']].head())\n"
      ],
      "metadata": {
        "colab": {
          "base_uri": "https://localhost:8080/"
        },
        "id": "-qLywAYlt8Ek",
        "outputId": "703f34da-f091-4c00-bf5e-babedd262219"
      },
      "execution_count": null,
      "outputs": [
        {
          "output_type": "stream",
          "name": "stdout",
          "text": [
            "        المنطقة  المنطقة_encoded\n",
            "0          عسير                0\n",
            "1          تبوك                1\n",
            "2  منطقة الرياض                2\n",
            "3  منطقة الرياض                2\n",
            "4  منطقة الرياض                2\n"
          ]
        }
      ]
    },
    {
      "cell_type": "code",
      "source": [
        "# عرض أسماء المناطق الفريدة في عمود 'المنطقة'\n",
        "unique_regions = new_data['المنطقة'].unique()\n",
        "\n",
        "# طباعة أسماء المناطق\n",
        "print(unique_regions)\n",
        "\n"
      ],
      "metadata": {
        "colab": {
          "base_uri": "https://localhost:8080/",
          "height": 211
        },
        "id": "YO7EY59kxhwt",
        "outputId": "9c9a38e1-36f0-439f-f349-b2b7c04c4a38"
      },
      "execution_count": null,
      "outputs": [
        {
          "output_type": "error",
          "ename": "NameError",
          "evalue": "name 'new_data' is not defined",
          "traceback": [
            "\u001b[0;31m---------------------------------------------------------------------------\u001b[0m",
            "\u001b[0;31mNameError\u001b[0m                                 Traceback (most recent call last)",
            "\u001b[0;32m<ipython-input-1-ca35c7bfce27>\u001b[0m in \u001b[0;36m<cell line: 2>\u001b[0;34m()\u001b[0m\n\u001b[1;32m      1\u001b[0m \u001b[0;31m# عرض أسماء المناطق الفريدة في عمود 'المنطقة'\u001b[0m\u001b[0;34m\u001b[0m\u001b[0;34m\u001b[0m\u001b[0m\n\u001b[0;32m----> 2\u001b[0;31m \u001b[0munique_regions\u001b[0m \u001b[0;34m=\u001b[0m \u001b[0mnew_data\u001b[0m\u001b[0;34m[\u001b[0m\u001b[0;34m'المنطقة'\u001b[0m\u001b[0;34m]\u001b[0m\u001b[0;34m.\u001b[0m\u001b[0munique\u001b[0m\u001b[0;34m(\u001b[0m\u001b[0;34m)\u001b[0m\u001b[0;34m\u001b[0m\u001b[0;34m\u001b[0m\u001b[0m\n\u001b[0m\u001b[1;32m      3\u001b[0m \u001b[0;34m\u001b[0m\u001b[0m\n\u001b[1;32m      4\u001b[0m \u001b[0;31m# طباعة أسماء المناطق\u001b[0m\u001b[0;34m\u001b[0m\u001b[0;34m\u001b[0m\u001b[0m\n\u001b[1;32m      5\u001b[0m \u001b[0mprint\u001b[0m\u001b[0;34m(\u001b[0m\u001b[0munique_regions\u001b[0m\u001b[0;34m)\u001b[0m\u001b[0;34m\u001b[0m\u001b[0;34m\u001b[0m\u001b[0m\n",
            "\u001b[0;31mNameError\u001b[0m: name 'new_data' is not defined"
          ]
        }
      ]
    },
    {
      "cell_type": "code",
      "source": [
        "new_data.head()\n"
      ],
      "metadata": {
        "colab": {
          "base_uri": "https://localhost:8080/",
          "height": 141
        },
        "id": "0FFVG1SSym9l",
        "outputId": "429ceb91-ade1-444e-cad9-1316ee08b024"
      },
      "execution_count": null,
      "outputs": [
        {
          "output_type": "error",
          "ename": "NameError",
          "evalue": "name 'new_data' is not defined",
          "traceback": [
            "\u001b[0;31m---------------------------------------------------------------------------\u001b[0m",
            "\u001b[0;31mNameError\u001b[0m                                 Traceback (most recent call last)",
            "\u001b[0;32m<ipython-input-2-d37cb0ab556b>\u001b[0m in \u001b[0;36m<cell line: 1>\u001b[0;34m()\u001b[0m\n\u001b[0;32m----> 1\u001b[0;31m \u001b[0mnew_data\u001b[0m\u001b[0;34m.\u001b[0m\u001b[0mhead\u001b[0m\u001b[0;34m(\u001b[0m\u001b[0;34m)\u001b[0m\u001b[0;34m\u001b[0m\u001b[0;34m\u001b[0m\u001b[0m\n\u001b[0m",
            "\u001b[0;31mNameError\u001b[0m: name 'new_data' is not defined"
          ]
        }
      ]
    },
    {
      "cell_type": "code",
      "source": [
        "df.columns = df.columns.str.strip()\n",
        "\n",
        "# الأعمدة الفئوية التي نحتاج لتحويلها إلى أرقام\n",
        "label_cols = ['الحالة الاجتماعية', 'الحالة الصحية', 'المدينة',\"المنطقة\", 'المسكن', 'ملكية المسكن', 'تصنيف', 'مسار الدعم السكني']\n",
        "\n",
        "\n",
        "le = LabelEncoder()\n",
        "for col in label_cols:\n",
        "    df[col] = le.fit_transform(df[col])\n",
        "\n",
        "# عرض أول 5 صفوف من البيانات بعد التحويل للتأكد\n",
        "print(df.head())\n"
      ],
      "metadata": {
        "colab": {
          "base_uri": "https://localhost:8080/"
        },
        "id": "bqK-Ek7duRO4",
        "outputId": "b0be1932-ae35-447b-8f32-8b2f1180da67"
      },
      "execution_count": null,
      "outputs": [
        {
          "output_type": "stream",
          "name": "stdout",
          "text": [
            "   الحالة الاجتماعية  العمر  الحالة الصحية  المنطقة  المدينة  دخل رب الأسرة  \\\n",
            "0                  0     43              0        9       97           6400   \n",
            "1                  2     51              3        6      108           8718   \n",
            "2                  2     59              0       10       43           1400   \n",
            "3                  3     67              1       10       40           1156   \n",
            "4                  0     62              1       10       43           2156   \n",
            "\n",
            "   مجموع الدخل  عدد الافراد  المسكن  ملكية المسكن  قيمة الايجار  تصنيف  \\\n",
            "0         6400            7       3             6             0      5   \n",
            "1        11668           14       2             3             0      5   \n",
            "2         7056           11       7             0          1667      5   \n",
            "3         6312            6       4             2             0      1   \n",
            "4         8156            4       1             2             0      6   \n",
            "\n",
            "   مسار الدعم السكني  \n",
            "0                  2  \n",
            "1                  2  \n",
            "2                  2  \n",
            "3                  0  \n",
            "4                  2  \n"
          ]
        }
      ]
    },
    {
      "cell_type": "markdown",
      "source": [
        "معادلة رياضية لتوقع الاسر المحتمل تعثرهم.\n",
        "استخدام 40% من قيمة الدخل حيث إذا تجاوزت نسبة الإيجار هذا المستوى، يُعتبر أن الأسرة تواجه تحديات مالية كبيرة في تغطية بقية التكاليف.\n",
        "إذا كانت الأسرة تتكون من أكثر من شخصين، فإن احتمال مواجهة ضغوط مالية يكون أعلى، خاصة إذا كان جزء كبير من الدخل يُنفق على الإيجار."
      ],
      "metadata": {
        "id": "aAm0Z37fszak"
      }
    },
    {
      "cell_type": "code",
      "source": [
        "df['financial_distress'] = ((df['قيمة الايجار'] > 0.4 * df['مجموع الدخل']) & (df['عدد الافراد'] > 2)).astype(int)\n"
      ],
      "metadata": {
        "id": "pUYdcEtQuYN8"
      },
      "execution_count": null,
      "outputs": []
    },
    {
      "cell_type": "code",
      "source": [
        "# تحديد السمات (X) والهدف (y)\n",
        "X = df.drop(columns=['financial_distress'])  # جميع الأعمدة ما عدا financial_distress\n",
        "y = df['financial_distress']  # الهدف الذي نريد التنبؤ به\n"
      ],
      "metadata": {
        "id": "Q15SRbqvub6x"
      },
      "execution_count": null,
      "outputs": []
    },
    {
      "cell_type": "code",
      "source": [
        "# تقسيم البيانات إلى مجموعات تدريب واختبار\n",
        "X_train, X_test, y_train, y_test = train_test_split(X, y, test_size=0.2, random_state=42)\n"
      ],
      "metadata": {
        "id": "woSXnaPbuftF"
      },
      "execution_count": null,
      "outputs": []
    },
    {
      "cell_type": "code",
      "source": [
        "# تحجيم البيانات\n",
        "scaler = StandardScaler()\n",
        "X_train = scaler.fit_transform(X_train)\n",
        "X_test = scaler.transform(X_test)\n"
      ],
      "metadata": {
        "id": "mq7KmUQQujVD"
      },
      "execution_count": null,
      "outputs": []
    },
    {
      "cell_type": "code",
      "source": [
        "model = RandomForestClassifier(random_state=42)\n",
        "\n",
        "model.fit(X_train, y_train)\n"
      ],
      "metadata": {
        "colab": {
          "base_uri": "https://localhost:8080/",
          "height": 80
        },
        "id": "qdYiwDSdunXn",
        "outputId": "6b899d51-742f-4040-cb0f-b45868aaa34e"
      },
      "execution_count": null,
      "outputs": [
        {
          "output_type": "execute_result",
          "data": {
            "text/plain": [
              "RandomForestClassifier(random_state=42)"
            ],
            "text/html": [
              "<style>#sk-container-id-1 {\n",
              "  /* Definition of color scheme common for light and dark mode */\n",
              "  --sklearn-color-text: black;\n",
              "  --sklearn-color-line: gray;\n",
              "  /* Definition of color scheme for unfitted estimators */\n",
              "  --sklearn-color-unfitted-level-0: #fff5e6;\n",
              "  --sklearn-color-unfitted-level-1: #f6e4d2;\n",
              "  --sklearn-color-unfitted-level-2: #ffe0b3;\n",
              "  --sklearn-color-unfitted-level-3: chocolate;\n",
              "  /* Definition of color scheme for fitted estimators */\n",
              "  --sklearn-color-fitted-level-0: #f0f8ff;\n",
              "  --sklearn-color-fitted-level-1: #d4ebff;\n",
              "  --sklearn-color-fitted-level-2: #b3dbfd;\n",
              "  --sklearn-color-fitted-level-3: cornflowerblue;\n",
              "\n",
              "  /* Specific color for light theme */\n",
              "  --sklearn-color-text-on-default-background: var(--sg-text-color, var(--theme-code-foreground, var(--jp-content-font-color1, black)));\n",
              "  --sklearn-color-background: var(--sg-background-color, var(--theme-background, var(--jp-layout-color0, white)));\n",
              "  --sklearn-color-border-box: var(--sg-text-color, var(--theme-code-foreground, var(--jp-content-font-color1, black)));\n",
              "  --sklearn-color-icon: #696969;\n",
              "\n",
              "  @media (prefers-color-scheme: dark) {\n",
              "    /* Redefinition of color scheme for dark theme */\n",
              "    --sklearn-color-text-on-default-background: var(--sg-text-color, var(--theme-code-foreground, var(--jp-content-font-color1, white)));\n",
              "    --sklearn-color-background: var(--sg-background-color, var(--theme-background, var(--jp-layout-color0, #111)));\n",
              "    --sklearn-color-border-box: var(--sg-text-color, var(--theme-code-foreground, var(--jp-content-font-color1, white)));\n",
              "    --sklearn-color-icon: #878787;\n",
              "  }\n",
              "}\n",
              "\n",
              "#sk-container-id-1 {\n",
              "  color: var(--sklearn-color-text);\n",
              "}\n",
              "\n",
              "#sk-container-id-1 pre {\n",
              "  padding: 0;\n",
              "}\n",
              "\n",
              "#sk-container-id-1 input.sk-hidden--visually {\n",
              "  border: 0;\n",
              "  clip: rect(1px 1px 1px 1px);\n",
              "  clip: rect(1px, 1px, 1px, 1px);\n",
              "  height: 1px;\n",
              "  margin: -1px;\n",
              "  overflow: hidden;\n",
              "  padding: 0;\n",
              "  position: absolute;\n",
              "  width: 1px;\n",
              "}\n",
              "\n",
              "#sk-container-id-1 div.sk-dashed-wrapped {\n",
              "  border: 1px dashed var(--sklearn-color-line);\n",
              "  margin: 0 0.4em 0.5em 0.4em;\n",
              "  box-sizing: border-box;\n",
              "  padding-bottom: 0.4em;\n",
              "  background-color: var(--sklearn-color-background);\n",
              "}\n",
              "\n",
              "#sk-container-id-1 div.sk-container {\n",
              "  /* jupyter's `normalize.less` sets `[hidden] { display: none; }`\n",
              "     but bootstrap.min.css set `[hidden] { display: none !important; }`\n",
              "     so we also need the `!important` here to be able to override the\n",
              "     default hidden behavior on the sphinx rendered scikit-learn.org.\n",
              "     See: https://github.com/scikit-learn/scikit-learn/issues/21755 */\n",
              "  display: inline-block !important;\n",
              "  position: relative;\n",
              "}\n",
              "\n",
              "#sk-container-id-1 div.sk-text-repr-fallback {\n",
              "  display: none;\n",
              "}\n",
              "\n",
              "div.sk-parallel-item,\n",
              "div.sk-serial,\n",
              "div.sk-item {\n",
              "  /* draw centered vertical line to link estimators */\n",
              "  background-image: linear-gradient(var(--sklearn-color-text-on-default-background), var(--sklearn-color-text-on-default-background));\n",
              "  background-size: 2px 100%;\n",
              "  background-repeat: no-repeat;\n",
              "  background-position: center center;\n",
              "}\n",
              "\n",
              "/* Parallel-specific style estimator block */\n",
              "\n",
              "#sk-container-id-1 div.sk-parallel-item::after {\n",
              "  content: \"\";\n",
              "  width: 100%;\n",
              "  border-bottom: 2px solid var(--sklearn-color-text-on-default-background);\n",
              "  flex-grow: 1;\n",
              "}\n",
              "\n",
              "#sk-container-id-1 div.sk-parallel {\n",
              "  display: flex;\n",
              "  align-items: stretch;\n",
              "  justify-content: center;\n",
              "  background-color: var(--sklearn-color-background);\n",
              "  position: relative;\n",
              "}\n",
              "\n",
              "#sk-container-id-1 div.sk-parallel-item {\n",
              "  display: flex;\n",
              "  flex-direction: column;\n",
              "}\n",
              "\n",
              "#sk-container-id-1 div.sk-parallel-item:first-child::after {\n",
              "  align-self: flex-end;\n",
              "  width: 50%;\n",
              "}\n",
              "\n",
              "#sk-container-id-1 div.sk-parallel-item:last-child::after {\n",
              "  align-self: flex-start;\n",
              "  width: 50%;\n",
              "}\n",
              "\n",
              "#sk-container-id-1 div.sk-parallel-item:only-child::after {\n",
              "  width: 0;\n",
              "}\n",
              "\n",
              "/* Serial-specific style estimator block */\n",
              "\n",
              "#sk-container-id-1 div.sk-serial {\n",
              "  display: flex;\n",
              "  flex-direction: column;\n",
              "  align-items: center;\n",
              "  background-color: var(--sklearn-color-background);\n",
              "  padding-right: 1em;\n",
              "  padding-left: 1em;\n",
              "}\n",
              "\n",
              "\n",
              "/* Toggleable style: style used for estimator/Pipeline/ColumnTransformer box that is\n",
              "clickable and can be expanded/collapsed.\n",
              "- Pipeline and ColumnTransformer use this feature and define the default style\n",
              "- Estimators will overwrite some part of the style using the `sk-estimator` class\n",
              "*/\n",
              "\n",
              "/* Pipeline and ColumnTransformer style (default) */\n",
              "\n",
              "#sk-container-id-1 div.sk-toggleable {\n",
              "  /* Default theme specific background. It is overwritten whether we have a\n",
              "  specific estimator or a Pipeline/ColumnTransformer */\n",
              "  background-color: var(--sklearn-color-background);\n",
              "}\n",
              "\n",
              "/* Toggleable label */\n",
              "#sk-container-id-1 label.sk-toggleable__label {\n",
              "  cursor: pointer;\n",
              "  display: block;\n",
              "  width: 100%;\n",
              "  margin-bottom: 0;\n",
              "  padding: 0.5em;\n",
              "  box-sizing: border-box;\n",
              "  text-align: center;\n",
              "}\n",
              "\n",
              "#sk-container-id-1 label.sk-toggleable__label-arrow:before {\n",
              "  /* Arrow on the left of the label */\n",
              "  content: \"▸\";\n",
              "  float: left;\n",
              "  margin-right: 0.25em;\n",
              "  color: var(--sklearn-color-icon);\n",
              "}\n",
              "\n",
              "#sk-container-id-1 label.sk-toggleable__label-arrow:hover:before {\n",
              "  color: var(--sklearn-color-text);\n",
              "}\n",
              "\n",
              "/* Toggleable content - dropdown */\n",
              "\n",
              "#sk-container-id-1 div.sk-toggleable__content {\n",
              "  max-height: 0;\n",
              "  max-width: 0;\n",
              "  overflow: hidden;\n",
              "  text-align: left;\n",
              "  /* unfitted */\n",
              "  background-color: var(--sklearn-color-unfitted-level-0);\n",
              "}\n",
              "\n",
              "#sk-container-id-1 div.sk-toggleable__content.fitted {\n",
              "  /* fitted */\n",
              "  background-color: var(--sklearn-color-fitted-level-0);\n",
              "}\n",
              "\n",
              "#sk-container-id-1 div.sk-toggleable__content pre {\n",
              "  margin: 0.2em;\n",
              "  border-radius: 0.25em;\n",
              "  color: var(--sklearn-color-text);\n",
              "  /* unfitted */\n",
              "  background-color: var(--sklearn-color-unfitted-level-0);\n",
              "}\n",
              "\n",
              "#sk-container-id-1 div.sk-toggleable__content.fitted pre {\n",
              "  /* unfitted */\n",
              "  background-color: var(--sklearn-color-fitted-level-0);\n",
              "}\n",
              "\n",
              "#sk-container-id-1 input.sk-toggleable__control:checked~div.sk-toggleable__content {\n",
              "  /* Expand drop-down */\n",
              "  max-height: 200px;\n",
              "  max-width: 100%;\n",
              "  overflow: auto;\n",
              "}\n",
              "\n",
              "#sk-container-id-1 input.sk-toggleable__control:checked~label.sk-toggleable__label-arrow:before {\n",
              "  content: \"▾\";\n",
              "}\n",
              "\n",
              "/* Pipeline/ColumnTransformer-specific style */\n",
              "\n",
              "#sk-container-id-1 div.sk-label input.sk-toggleable__control:checked~label.sk-toggleable__label {\n",
              "  color: var(--sklearn-color-text);\n",
              "  background-color: var(--sklearn-color-unfitted-level-2);\n",
              "}\n",
              "\n",
              "#sk-container-id-1 div.sk-label.fitted input.sk-toggleable__control:checked~label.sk-toggleable__label {\n",
              "  background-color: var(--sklearn-color-fitted-level-2);\n",
              "}\n",
              "\n",
              "/* Estimator-specific style */\n",
              "\n",
              "/* Colorize estimator box */\n",
              "#sk-container-id-1 div.sk-estimator input.sk-toggleable__control:checked~label.sk-toggleable__label {\n",
              "  /* unfitted */\n",
              "  background-color: var(--sklearn-color-unfitted-level-2);\n",
              "}\n",
              "\n",
              "#sk-container-id-1 div.sk-estimator.fitted input.sk-toggleable__control:checked~label.sk-toggleable__label {\n",
              "  /* fitted */\n",
              "  background-color: var(--sklearn-color-fitted-level-2);\n",
              "}\n",
              "\n",
              "#sk-container-id-1 div.sk-label label.sk-toggleable__label,\n",
              "#sk-container-id-1 div.sk-label label {\n",
              "  /* The background is the default theme color */\n",
              "  color: var(--sklearn-color-text-on-default-background);\n",
              "}\n",
              "\n",
              "/* On hover, darken the color of the background */\n",
              "#sk-container-id-1 div.sk-label:hover label.sk-toggleable__label {\n",
              "  color: var(--sklearn-color-text);\n",
              "  background-color: var(--sklearn-color-unfitted-level-2);\n",
              "}\n",
              "\n",
              "/* Label box, darken color on hover, fitted */\n",
              "#sk-container-id-1 div.sk-label.fitted:hover label.sk-toggleable__label.fitted {\n",
              "  color: var(--sklearn-color-text);\n",
              "  background-color: var(--sklearn-color-fitted-level-2);\n",
              "}\n",
              "\n",
              "/* Estimator label */\n",
              "\n",
              "#sk-container-id-1 div.sk-label label {\n",
              "  font-family: monospace;\n",
              "  font-weight: bold;\n",
              "  display: inline-block;\n",
              "  line-height: 1.2em;\n",
              "}\n",
              "\n",
              "#sk-container-id-1 div.sk-label-container {\n",
              "  text-align: center;\n",
              "}\n",
              "\n",
              "/* Estimator-specific */\n",
              "#sk-container-id-1 div.sk-estimator {\n",
              "  font-family: monospace;\n",
              "  border: 1px dotted var(--sklearn-color-border-box);\n",
              "  border-radius: 0.25em;\n",
              "  box-sizing: border-box;\n",
              "  margin-bottom: 0.5em;\n",
              "  /* unfitted */\n",
              "  background-color: var(--sklearn-color-unfitted-level-0);\n",
              "}\n",
              "\n",
              "#sk-container-id-1 div.sk-estimator.fitted {\n",
              "  /* fitted */\n",
              "  background-color: var(--sklearn-color-fitted-level-0);\n",
              "}\n",
              "\n",
              "/* on hover */\n",
              "#sk-container-id-1 div.sk-estimator:hover {\n",
              "  /* unfitted */\n",
              "  background-color: var(--sklearn-color-unfitted-level-2);\n",
              "}\n",
              "\n",
              "#sk-container-id-1 div.sk-estimator.fitted:hover {\n",
              "  /* fitted */\n",
              "  background-color: var(--sklearn-color-fitted-level-2);\n",
              "}\n",
              "\n",
              "/* Specification for estimator info (e.g. \"i\" and \"?\") */\n",
              "\n",
              "/* Common style for \"i\" and \"?\" */\n",
              "\n",
              ".sk-estimator-doc-link,\n",
              "a:link.sk-estimator-doc-link,\n",
              "a:visited.sk-estimator-doc-link {\n",
              "  float: right;\n",
              "  font-size: smaller;\n",
              "  line-height: 1em;\n",
              "  font-family: monospace;\n",
              "  background-color: var(--sklearn-color-background);\n",
              "  border-radius: 1em;\n",
              "  height: 1em;\n",
              "  width: 1em;\n",
              "  text-decoration: none !important;\n",
              "  margin-left: 1ex;\n",
              "  /* unfitted */\n",
              "  border: var(--sklearn-color-unfitted-level-1) 1pt solid;\n",
              "  color: var(--sklearn-color-unfitted-level-1);\n",
              "}\n",
              "\n",
              ".sk-estimator-doc-link.fitted,\n",
              "a:link.sk-estimator-doc-link.fitted,\n",
              "a:visited.sk-estimator-doc-link.fitted {\n",
              "  /* fitted */\n",
              "  border: var(--sklearn-color-fitted-level-1) 1pt solid;\n",
              "  color: var(--sklearn-color-fitted-level-1);\n",
              "}\n",
              "\n",
              "/* On hover */\n",
              "div.sk-estimator:hover .sk-estimator-doc-link:hover,\n",
              ".sk-estimator-doc-link:hover,\n",
              "div.sk-label-container:hover .sk-estimator-doc-link:hover,\n",
              ".sk-estimator-doc-link:hover {\n",
              "  /* unfitted */\n",
              "  background-color: var(--sklearn-color-unfitted-level-3);\n",
              "  color: var(--sklearn-color-background);\n",
              "  text-decoration: none;\n",
              "}\n",
              "\n",
              "div.sk-estimator.fitted:hover .sk-estimator-doc-link.fitted:hover,\n",
              ".sk-estimator-doc-link.fitted:hover,\n",
              "div.sk-label-container:hover .sk-estimator-doc-link.fitted:hover,\n",
              ".sk-estimator-doc-link.fitted:hover {\n",
              "  /* fitted */\n",
              "  background-color: var(--sklearn-color-fitted-level-3);\n",
              "  color: var(--sklearn-color-background);\n",
              "  text-decoration: none;\n",
              "}\n",
              "\n",
              "/* Span, style for the box shown on hovering the info icon */\n",
              ".sk-estimator-doc-link span {\n",
              "  display: none;\n",
              "  z-index: 9999;\n",
              "  position: relative;\n",
              "  font-weight: normal;\n",
              "  right: .2ex;\n",
              "  padding: .5ex;\n",
              "  margin: .5ex;\n",
              "  width: min-content;\n",
              "  min-width: 20ex;\n",
              "  max-width: 50ex;\n",
              "  color: var(--sklearn-color-text);\n",
              "  box-shadow: 2pt 2pt 4pt #999;\n",
              "  /* unfitted */\n",
              "  background: var(--sklearn-color-unfitted-level-0);\n",
              "  border: .5pt solid var(--sklearn-color-unfitted-level-3);\n",
              "}\n",
              "\n",
              ".sk-estimator-doc-link.fitted span {\n",
              "  /* fitted */\n",
              "  background: var(--sklearn-color-fitted-level-0);\n",
              "  border: var(--sklearn-color-fitted-level-3);\n",
              "}\n",
              "\n",
              ".sk-estimator-doc-link:hover span {\n",
              "  display: block;\n",
              "}\n",
              "\n",
              "/* \"?\"-specific style due to the `<a>` HTML tag */\n",
              "\n",
              "#sk-container-id-1 a.estimator_doc_link {\n",
              "  float: right;\n",
              "  font-size: 1rem;\n",
              "  line-height: 1em;\n",
              "  font-family: monospace;\n",
              "  background-color: var(--sklearn-color-background);\n",
              "  border-radius: 1rem;\n",
              "  height: 1rem;\n",
              "  width: 1rem;\n",
              "  text-decoration: none;\n",
              "  /* unfitted */\n",
              "  color: var(--sklearn-color-unfitted-level-1);\n",
              "  border: var(--sklearn-color-unfitted-level-1) 1pt solid;\n",
              "}\n",
              "\n",
              "#sk-container-id-1 a.estimator_doc_link.fitted {\n",
              "  /* fitted */\n",
              "  border: var(--sklearn-color-fitted-level-1) 1pt solid;\n",
              "  color: var(--sklearn-color-fitted-level-1);\n",
              "}\n",
              "\n",
              "/* On hover */\n",
              "#sk-container-id-1 a.estimator_doc_link:hover {\n",
              "  /* unfitted */\n",
              "  background-color: var(--sklearn-color-unfitted-level-3);\n",
              "  color: var(--sklearn-color-background);\n",
              "  text-decoration: none;\n",
              "}\n",
              "\n",
              "#sk-container-id-1 a.estimator_doc_link.fitted:hover {\n",
              "  /* fitted */\n",
              "  background-color: var(--sklearn-color-fitted-level-3);\n",
              "}\n",
              "</style><div id=\"sk-container-id-1\" class=\"sk-top-container\"><div class=\"sk-text-repr-fallback\"><pre>RandomForestClassifier(random_state=42)</pre><b>In a Jupyter environment, please rerun this cell to show the HTML representation or trust the notebook. <br />On GitHub, the HTML representation is unable to render, please try loading this page with nbviewer.org.</b></div><div class=\"sk-container\" hidden><div class=\"sk-item\"><div class=\"sk-estimator fitted sk-toggleable\"><input class=\"sk-toggleable__control sk-hidden--visually\" id=\"sk-estimator-id-1\" type=\"checkbox\" checked><label for=\"sk-estimator-id-1\" class=\"sk-toggleable__label fitted sk-toggleable__label-arrow fitted\">&nbsp;&nbsp;RandomForestClassifier<a class=\"sk-estimator-doc-link fitted\" rel=\"noreferrer\" target=\"_blank\" href=\"https://scikit-learn.org/1.5/modules/generated/sklearn.ensemble.RandomForestClassifier.html\">?<span>Documentation for RandomForestClassifier</span></a><span class=\"sk-estimator-doc-link fitted\">i<span>Fitted</span></span></label><div class=\"sk-toggleable__content fitted\"><pre>RandomForestClassifier(random_state=42)</pre></div> </div></div></div></div>"
            ]
          },
          "metadata": {},
          "execution_count": 13
        }
      ]
    },
    {
      "cell_type": "code",
      "source": [
        "# التنبؤ باستخدام بيانات الاختبار\n",
        "y_pred = model.predict(X_test)\n",
        "\n",
        "# حساب الدقة وتقييم الأداء\n",
        "accuracy = accuracy_score(y_test, y_pred)\n",
        "print(f'Accuracy: {accuracy}')\n",
        "\n",
        "# عرض التقرير التصنيفي الكامل\n",
        "print(classification_report(y_test, y_pred))\n",
        "\n",
        "# عرض مصفوفة الارتباك (Confusion Matrix)\n",
        "print(confusion_matrix(y_test, y_pred))\n"
      ],
      "metadata": {
        "colab": {
          "base_uri": "https://localhost:8080/"
        },
        "id": "ZB9dNTaiurFu",
        "outputId": "701971ea-46eb-400e-d506-4c0e6ac38c0e"
      },
      "execution_count": null,
      "outputs": [
        {
          "output_type": "stream",
          "name": "stdout",
          "text": [
            "Accuracy: 0.9957708573625529\n",
            "              precision    recall  f1-score   support\n",
            "\n",
            "           0       1.00      1.00      1.00     12188\n",
            "           1       0.99      0.94      0.97       817\n",
            "\n",
            "    accuracy                           1.00     13005\n",
            "   macro avg       0.99      0.97      0.98     13005\n",
            "weighted avg       1.00      1.00      1.00     13005\n",
            "\n",
            "[[12179     9]\n",
            " [   46   771]]\n"
          ]
        }
      ]
    },
    {
      "cell_type": "code",
      "source": [
        "from sklearn.model_selection import GridSearchCV\n",
        "\n",
        "# إعداد معلمات للتجربة في GridSearchCV\n",
        "param_grid = {\n",
        "    'n_estimators': [100, 200, 300],\n",
        "    'max_depth': [5, 10, 15]\n",
        "}\n",
        "\n",
        "# إنشاء GridSearchCV للبحث عن أفضل معلمات\n",
        "grid_search = GridSearchCV(estimator=model, param_grid=param_grid, cv=5, scoring='accuracy', verbose=1)\n",
        "\n",
        "# تدريب GridSearchCV\n",
        "grid_search.fit(X_train, y_train)\n",
        "\n",
        "# عرض أفضل المعلمات\n",
        "print(f'Best Parameters: {grid_search.best_params_}')\n",
        "\n",
        "# استخدام أفضل نموذج\n",
        "best_model = grid_search.best_estimator_\n",
        "\n",
        "# التنبؤ باستخدام النموذج المحسن\n",
        "y_pred_best = best_model.predict(X_test)\n",
        "\n",
        "# تقييم النموذج المحسن\n",
        "accuracy_best = accuracy_score(y_test, y_pred_best)\n",
        "print(f'Improved Accuracy: {accuracy_best}')\n",
        "print(classification_report(y_test, y_pred_best))\n",
        "print(confusion_matrix(y_test, y_pred_best))\n"
      ],
      "metadata": {
        "colab": {
          "base_uri": "https://localhost:8080/"
        },
        "id": "rivTmam7uvdM",
        "outputId": "0f77fa78-a3bc-447a-ee2a-b75a0b1df481"
      },
      "execution_count": null,
      "outputs": [
        {
          "output_type": "stream",
          "name": "stdout",
          "text": [
            "Fitting 5 folds for each of 9 candidates, totalling 45 fits\n"
          ]
        },
        {
          "output_type": "stream",
          "name": "stderr",
          "text": [
            "/usr/local/lib/python3.10/dist-packages/numpy/ma/core.py:2820: RuntimeWarning: invalid value encountered in cast\n",
            "  _data = np.array(data, dtype=dtype, copy=copy,\n"
          ]
        },
        {
          "output_type": "stream",
          "name": "stdout",
          "text": [
            "Best Parameters: {'max_depth': 15, 'n_estimators': 300}\n",
            "Improved Accuracy: 0.9955401768550558\n",
            "              precision    recall  f1-score   support\n",
            "\n",
            "           0       1.00      1.00      1.00     12188\n",
            "           1       0.99      0.94      0.96       817\n",
            "\n",
            "    accuracy                           1.00     13005\n",
            "   macro avg       0.99      0.97      0.98     13005\n",
            "weighted avg       1.00      1.00      1.00     13005\n",
            "\n",
            "[[12178    10]\n",
            " [   48   769]]\n"
          ]
        }
      ]
    },
    {
      "cell_type": "code",
      "source": [
        "# حساب دقة النموذج على بيانات التدريب\n",
        "train_accuracy = model.score(X_train, y_train)\n",
        "print(f'Training Accuracy: {train_accuracy}')\n",
        "\n",
        "# حساب دقة النموذج على بيانات الاختبار\n",
        "test_accuracy = model.score(X_test, y_test)\n",
        "print(f'Test Accuracy: {test_accuracy}')\n",
        "\n",
        "# مقارنة الأداء على بيانات التدريب والاختبار\n",
        "if train_accuracy > test_accuracy + 0.05:\n",
        "    print(\"The model may be overfitting.\")\n",
        "else:\n",
        "    print(\"The model is likely generalizing well.\")\n"
      ],
      "metadata": {
        "colab": {
          "base_uri": "https://localhost:8080/"
        },
        "id": "rv06BmYTuzVj",
        "outputId": "a141c019-50bb-4060-c6fd-e4f94deb8f6e"
      },
      "execution_count": null,
      "outputs": [
        {
          "output_type": "stream",
          "name": "stdout",
          "text": [
            "Training Accuracy: 1.0\n",
            "Test Accuracy: 0.9957708573625529\n",
            "The model is likely generalizing well.\n"
          ]
        }
      ]
    },
    {
      "cell_type": "code",
      "source": [
        "from sklearn.metrics import confusion_matrix, ConfusionMatrixDisplay\n",
        "\n",
        "# أسماء الفئات للعرض (على سبيل المثال، [\"غير متعثر\", \"متعثر\"])\n",
        "target_names = [\"غير متعثر\", \"متعثر\"]\n",
        "\n",
        "# حساب مصفوفة الارتباك\n",
        "cm = confusion_matrix(y_test, y_pred)\n",
        "\n",
        "# عرض مصفوفة الارتباك\n",
        "disp = ConfusionMatrixDisplay(confusion_matrix=cm, display_labels=target_names)\n",
        "disp.plot()\n"
      ],
      "metadata": {
        "colab": {
          "base_uri": "https://localhost:8080/",
          "height": 466
        },
        "id": "m-CpxT8Eu8o2",
        "outputId": "0a14c200-ad61-4987-d170-41b8afb32919"
      },
      "execution_count": null,
      "outputs": [
        {
          "output_type": "execute_result",
          "data": {
            "text/plain": [
              "<sklearn.metrics._plot.confusion_matrix.ConfusionMatrixDisplay at 0x7f2ff72c3fd0>"
            ]
          },
          "metadata": {},
          "execution_count": 17
        },
        {
          "output_type": "display_data",
          "data": {
            "text/plain": [
              "<Figure size 640x480 with 2 Axes>"
            ],
            "image/png": "[encoded data removed]"
          },
          "metadata": {}
        }
      ]
    },
    {
      "cell_type": "code",
      "source": [
        "from sklearn.preprocessing import LabelEncoder\n",
        "\n",
        "# قائمة بالأعمدة الفئوية التي تحتاج إلى تحويل\n",
        "label_cols = ['الحالة الاجتماعية', 'الحالة الصحية',\"المنطقة\", 'المدينة', 'المسكن', 'ملكية المسكن', 'تصنيف', 'مسار الدعم السكني']\n",
        "\n",
        "le = LabelEncoder()\n",
        "\n",
        "# تحويل القيم الفئوية إلى أرقام\n",
        "for col in label_cols:\n",
        "    if col in new_data.columns:\n",
        "        new_data[col] = le.fit_transform(new_data[col])\n"
      ],
      "metadata": {
        "id": "NZI2QfyewLAN"
      },
      "execution_count": null,
      "outputs": []
    },
    {
      "cell_type": "markdown",
      "source": [
        "تحديد عدد الاسر المتوقع تعثرهم في الدفعات القادمة"
      ],
      "metadata": {
        "id": "HoM8ZIUU7QBH"
      }
    },
    {
      "cell_type": "code",
      "source": [
        "# تحديد الأعمدة التي استخدمت في تدريب النموذج\n",
        "feature_columns = ['الحالة الاجتماعية', 'العمر', 'الحالة الصحية', 'المنطقة', 'المدينة',\n",
        "                   'دخل رب الأسرة', 'مجموع الدخل', 'عدد الافراد', 'المسكن', 'ملكية المسكن',\n",
        "                   'قيمة الايجار', 'تصنيف', 'مسار الدعم السكني']\n",
        "\n",
        "# التأكد من أن البيانات الجديدة تحتوي فقط على الأعمدة المستخدمة في التدريب\n",
        "new_data_prepared = new_data[feature_columns]\n",
        "\n",
        "# إذا كنت قد استخدمت StandardScaler في تدريب النموذج، قم بتحجيم البيانات الجديدة\n",
        "new_data_scaled = scaler.fit_transform(new_data_prepared)\n",
        "\n",
        "# التنبؤ باستخدام النموذج المحسن\n",
        "new_data_predictions = best_model.predict(new_data_scaled)\n",
        "\n",
        "# حساب عدد الأسر المتوقع تعثرهم\n",
        "num_expected_distressed = sum(new_data_predictions)\n",
        "\n",
        "print(f'عدد الأسر المتوقع تعثرهم في الدفعات القادمة: {num_expected_distressed}')\n"
      ],
      "metadata": {
        "colab": {
          "base_uri": "https://localhost:8080/"
        },
        "id": "2fDl1g5RvLp4",
        "outputId": "8e026b9b-c0f2-439f-8a3e-137e4164069f"
      },
      "execution_count": null,
      "outputs": [
        {
          "output_type": "stream",
          "name": "stdout",
          "text": [
            "عدد الأسر المتوقع تعثرهم في الدفعات القادمة: 4000\n"
          ]
        }
      ]
    },
    {
      "cell_type": "code",
      "source": [
        "# إنشاء قاموس لتحويل الأرقام من 0 إلى 12 إلى أسماء المناطق\n",
        "region_mapping = {\n",
        "    0: 'الباحة',\n",
        "    1: 'الجوف',\n",
        "    2: 'الحدود الشمالية',\n",
        "    3: 'القصيم',\n",
        "    4: 'المدينة المنورة',\n",
        "    5: 'المنطقة الشرقية',\n",
        "    6: 'تبوك',\n",
        "    7: 'جازان',\n",
        "    8: 'حائل',\n",
        "    9: 'عسير',\n",
        "    10: 'منطقة الرياض',\n",
        "    11: 'منطقة مكة المكرمة',\n",
        "    12: 'نجران'\n",
        "}\n",
        "\n",
        "# تحويل الأرقام في عمود \"المنطقة\" إلى أسماء المناطق باستخدام القاموس\n",
        "new_data['المنطقة'] = new_data['المنطقة'].map(region_mapping)\n",
        "\n",
        "# عرض النتيجة\n",
        "print(new_data['المنطقة'])\n"
      ],
      "metadata": {
        "colab": {
          "base_uri": "https://localhost:8080/"
        },
        "id": "ev8ourQc3rKX",
        "outputId": "7e0b0944-79c3-4822-8984-350757b80264"
      },
      "execution_count": null,
      "outputs": [
        {
          "output_type": "stream",
          "name": "stdout",
          "text": [
            "0                     عسير\n",
            "1                     تبوك\n",
            "2             منطقة الرياض\n",
            "3             منطقة الرياض\n",
            "4             منطقة الرياض\n",
            "               ...        \n",
            "65017    منطقة مكة المكرمة\n",
            "65018                 عسير\n",
            "65019         منطقة الرياض\n",
            "65020               القصيم\n",
            "65021                 تبوك\n",
            "Name: المنطقة, Length: 65022, dtype: object\n"
          ]
        }
      ]
    },
    {
      "cell_type": "markdown",
      "source": [
        "المناطق الجغرافية التي تشهد اعلى تسب تعثر الفئات المدعومة"
      ],
      "metadata": {
        "id": "XN8JI7ay7gUT"
      }
    },
    {
      "cell_type": "code",
      "source": [
        "# إضافة التوقعات إلى البيانات الجديدة\n",
        "new_data['financial_distress_prediction'] = new_data_predictions\n",
        "\n",
        "# حساب عدد الأسر المتوقعة تعثرها حسب المنطقة\n",
        "distressed_by_region = new_data[new_data['financial_distress_prediction'] == 1].groupby('المنطقة').size()\n",
        "\n",
        "print(distressed_by_region)\n"
      ],
      "metadata": {
        "colab": {
          "base_uri": "https://localhost:8080/"
        },
        "id": "-G_s1tVbvPj1",
        "outputId": "7b3dacf7-9cfd-42ca-c586-2ecedfc1c61c"
      },
      "execution_count": null,
      "outputs": [
        {
          "output_type": "stream",
          "name": "stdout",
          "text": [
            "المنطقة\n",
            "الباحة                 31\n",
            "الجوف                  73\n",
            "الحدود الشمالية        95\n",
            "القصيم                239\n",
            "المدينة المنورة       268\n",
            "المنطقة الشرقية       500\n",
            "تبوك                  221\n",
            "جازان                 253\n",
            "حائل                  124\n",
            "عسير                  301\n",
            "منطقة الرياض          652\n",
            "منطقة مكة المكرمة    1185\n",
            "نجران                  58\n",
            "dtype: int64\n"
          ]
        }
      ]
    },
    {
      "cell_type": "code",
      "source": [
        "import matplotlib.pyplot as plt\n",
        "\n",
        "# البيانات\n",
        "regions = [\n",
        "    'الباحة', 'الجوف', 'الحدود الشمالية', 'القصيم', 'المدينة المنورة',\n",
        "    'المنطقة الشرقية', 'تبوك', 'جازان', 'حائل', 'عسير',\n",
        "    'منطقة الرياض', 'منطقة مكة المكرمة', 'نجران'\n",
        "]\n",
        "values = [31, 73, 95, 239, 268, 500, 221, 253, 124, 301, 652, 1185, 58]\n",
        "\n",
        "# رسم الرسم البياني\n",
        "plt.figure(figsize=(12, 8))  # ضبط حجم الشكل\n",
        "plt.barh(regions, values, color='skyblue')  # رسم مخطط أفقي\n",
        "\n",
        "# إضافة عنوان ومحاور\n",
        "plt.title('عدد الأسر في كل منطقة', fontsize=16)\n",
        "plt.xlabel('عدد الأسر', fontsize=14)\n",
        "plt.ylabel('المنطقة', fontsize=14)\n",
        "\n",
        "# ضبط شكل المحور العمودي ليكون النص العربي مقروءاً بشكل صحيح\n",
        "plt.xticks(fontsize=12)\n",
        "plt.yticks(fontsize=12)\n",
        "\n",
        "# عرض الرسم البياني\n",
        "plt.tight_layout()\n",
        "plt.show()\n"
      ],
      "metadata": {
        "colab": {
          "base_uri": "https://localhost:8080/",
          "height": 807
        },
        "id": "V57RIeRX4EZU",
        "outputId": "126f9c36-a9bd-4ec4-d2eb-430958b7761e"
      },
      "execution_count": null,
      "outputs": [
        {
          "output_type": "display_data",
          "data": {
            "text/plain": [
              "<Figure size 1200x800 with 1 Axes>"
            ],
            "image/png": "[encoded data removed]"
          },
          "metadata": {}
        }
      ]
    },
    {
      "cell_type": "markdown",
      "source": [
        "اسباب تاثر الفئات"
      ],
      "metadata": {
        "id": "66DXnNmc8C1j"
      }
    },
    {
      "cell_type": "code",
      "source": [
        "import matplotlib.pyplot as plt\n",
        "import pandas as pd\n",
        "\n",
        "# الحصول على الأهمية المميزة من النموذج المدرب\n",
        "feature_importances = best_model.feature_importances_\n",
        "\n",
        "# إنشاء DataFrame لعرض الأهمية المميزة لكل ميزة\n",
        "features_df = pd.DataFrame({\n",
        "    'Feature': feature_columns,\n",
        "    'Importance': feature_importances\n",
        "})\n",
        "\n",
        "# ترتيب الميزات حسب الأهمية\n",
        "features_df = features_df.sort_values(by='Importance', ascending=False)\n",
        "\n",
        "# رسم الأهمية المميزة\n",
        "plt.figure(figsize=(12, 8))\n",
        "plt.barh(features_df['Feature'], features_df['Importance'], color='skyblue')\n",
        "plt.xlabel('أهمية الميزة', fontsize=14)\n",
        "plt.title('أهمية الميزات في التنبؤ بالتعثر', fontsize=16)\n",
        "plt.gca().invert_yaxis()\n",
        "plt.show()\n"
      ],
      "metadata": {
        "colab": {
          "base_uri": "https://localhost:8080/",
          "height": 736
        },
        "id": "PqoSzFO85Hvx",
        "outputId": "44ddc0bb-c56b-435c-d11e-fc449c1988a4"
      },
      "execution_count": null,
      "outputs": [
        {
          "output_type": "display_data",
          "data": {
            "text/plain": [
              "<Figure size 1200x800 with 1 Axes>"
            ],
            "image/png": "[encoded data removed]"
          },
          "metadata": {}
        }
      ]
    },
    {
      "cell_type": "code",
      "source": [
        "print(new_data.columns)"
      ],
      "metadata": {
        "colab": {
          "base_uri": "https://localhost:8080/"
        },
        "id": "zutEBJlH5uN2",
        "outputId": "0b4a0922-0aba-4c6f-e710-faefa0485cd7"
      },
      "execution_count": null,
      "outputs": [
        {
          "output_type": "stream",
          "name": "stdout",
          "text": [
            "Index(['الحالة الاجتماعية', 'العمر', 'الحالة الصحية', 'المنطقة', 'المدينة',\n",
            "       'دخل رب الأسرة', 'مجموع الدخل', 'عدد الافراد', 'المسكن', 'ملكية المسكن',\n",
            "       'قيمة الايجار', 'تصنيف', 'مسار الدعم السكني', 'المنطقة_encoded',\n",
            "       'financial_distress_prediction'],\n",
            "      dtype='object')\n"
          ]
        }
      ]
    },
    {
      "cell_type": "markdown",
      "source": [
        "المناطق التي لديها اعلى نسبة ايجار"
      ],
      "metadata": {
        "id": "fNuSxvXW8OK_"
      }
    },
    {
      "cell_type": "code",
      "source": [
        "# حساب نسبة التعثر لكل منطقة باستخدام العمود 'financial_distress_prediction'\n",
        "distress_by_region = new_data.groupby('المنطقة')['financial_distress_prediction'].mean()\n",
        "\n",
        "# عرض النتيجة\n",
        "print(distress_by_region)\n"
      ],
      "metadata": {
        "colab": {
          "base_uri": "https://localhost:8080/"
        },
        "id": "GQhP_DvW5bR7",
        "outputId": "9f362852-ae72-482a-fbc1-a62757ae5dec"
      },
      "execution_count": null,
      "outputs": [
        {
          "output_type": "stream",
          "name": "stdout",
          "text": [
            "المنطقة\n",
            "الباحة               0.030068\n",
            "الجوف                0.029591\n",
            "الحدود الشمالية      0.045783\n",
            "القصيم               0.047705\n",
            "المدينة المنورة      0.066950\n",
            "المنطقة الشرقية      0.062869\n",
            "تبوك                 0.065057\n",
            "جازان                0.049892\n",
            "حائل                 0.064149\n",
            "عسير                 0.063866\n",
            "منطقة الرياض         0.062066\n",
            "منطقة مكة المكرمة    0.076843\n",
            "نجران                0.040194\n",
            "Name: financial_distress_prediction, dtype: float64\n"
          ]
        }
      ]
    }
  ]
}